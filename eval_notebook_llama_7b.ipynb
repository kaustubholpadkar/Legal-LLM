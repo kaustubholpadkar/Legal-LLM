{
 "cells": [
  {
   "cell_type": "code",
   "execution_count": 1,
   "metadata": {},
   "outputs": [],
   "source": [
    "import math\n",
    "import openai\n",
    "import os\n",
    "import sklearn.metrics\n",
    "import random\n",
    "from tqdm import tqdm\n",
    "from langchain.llms import OpenAI"
   ]
  },
  {
   "cell_type": "code",
   "execution_count": 2,
   "metadata": {},
   "outputs": [
    {
     "name": "stderr",
     "output_type": "stream",
     "text": [
      "\u001b[32mINFO\u001b[0m API key set.\n",
      "INFO:baseten:API key set.\n"
     ]
    }
   ],
   "source": [
    "import baseten\n",
    "baseten.login(\"yiVOous9.2mjkPJSPdya6FUFbGKmXaLyUF6ZxTQYs\")"
   ]
  },
  {
   "cell_type": "code",
   "execution_count": 3,
   "metadata": {},
   "outputs": [],
   "source": [
    "from task_utils import TASKS, load_data, load_prompt, generate_prompts"
   ]
  },
  {
   "cell_type": "code",
   "execution_count": 10,
   "metadata": {},
   "outputs": [],
   "source": [
    "## your LLM stack goes here\n",
    "\n",
    "# Falcon 7B\n",
    "\n",
    "model = baseten.deployed_model_version_id('q957r6w')\n",
    "\n",
    "def call_llm(prompt):\n",
    "    output = model.predict({\"prompt\": prompt, \"temperature\": 0.0})\n",
    "    print(output)\n",
    "    output = output[\"data\"][\"generated_text\"]\n",
    "    result = output.rsplit(\" \", maxsplit=1)[-1]\n",
    "    return result\n",
    "    "
   ]
  },
  {
   "cell_type": "code",
   "execution_count": 17,
   "metadata": {},
   "outputs": [
    {
     "data": {
      "text/plain": [
       "{'data': ['Meaning of life is a question that has been asked since the beginning of time. The meaning of life is a question that has been asked since the beginning of time. The meaning of life is a question that has been asked since the beginning of time. The meaning of life is a question that has been asked since the beginning of time. The meaning of life is a question that has been asked since the beginning of time. The meaning of life is a question that has been asked since the beginning of time. The meaning of life is a question that has been asked since the beginning of time. The meaning of life is a question that has been asked since the beginning of time. The meaning of life is a question that has been asked since the beginning of time. The meaning of life is a question that has been asked since the beginning of time. The meaning of life is a question that has been asked since the beginning of time. The meaning of life is a question that has been asked since the beginning of time. The meaning of life is a question that has been asked since the beginning of time. The meaning of life is a question that has been asked since the beginning of time. The meaning of life is a question that has been asked since the beginning of time. The meaning of life is a question that has been asked since the beginning of time. The meaning of life is a question that has been asked since the beginning of time. The meaning of life is a question that has been asked since the beginning of time. The meaning of life is a question that has been asked since the beginning of time. The meaning of life is a question that has been asked since the beginning of time. The meaning of life is a question that has been asked since the beginning of time. The meaning of life is a question that has been asked since the beginning of time. The meaning of life is a question that has been asked since the beginning of time. The meaning of life is a question that has been asked since the beginning of time. The meaning of life is a question that has been asked since the beginning of time. The meaning of life is a question that has been asked since the beginning of time. The meaning of life is a question that has been asked since the beginning of time. The meaning of life is a question that has been asked since the beginning of time. The meaning of life is a question that has been asked since the beginning of time. The meaning of life is a question that has been asked since the beginning of time. The meaning of life is a question that has been asked since the beginning of time. The meaning of life is a question that has been asked since the beginning of time. The meaning of life is a question that has been asked since the beginning of time. The meaning of life is a question that has been asked since the beginning of time.'],\n",
       " 'message': None,\n",
       " 'status': 'success'}"
      ]
     },
     "execution_count": 17,
     "metadata": {},
     "output_type": "execute_result"
    }
   ],
   "source": [
    "model.predict({'top_p': 0.75, 'prompt': \"Meaning of life is\", 'num_beams': 4, 'temperature': 0.1})"
   ]
  },
  {
   "cell_type": "code",
   "execution_count": 11,
   "metadata": {},
   "outputs": [],
   "source": [
    "def evaluate(tasks: list, tasks_dir: str):\n",
    "    report = dict()\n",
    "    for task in tqdm(tasks):\n",
    "        train_df, test_df = load_data(task=task, tasks_dir=tasks_dir)\n",
    "        prompt_template = load_prompt(prompt_name=\"base_prompt.txt\", task=task, tasks_dir=tasks_dir)\n",
    "        prompts = generate_prompts(prompt_template=prompt_template, data_df=train_df)\n",
    "        report[task] = dict()\n",
    "        targets = list()\n",
    "        outputs = list()\n",
    "        for prompt, data in zip(prompts, train_df.iterrows()):\n",
    "            datapoint_id, data = data\n",
    "            output = call_llm(prompt)\n",
    "            output = output.strip()\n",
    "            targets.append(data['answer'])\n",
    "            outputs.append(output)\n",
    "            success = output == data['answer']\n",
    "            report[task][datapoint_id] = {\n",
    "                'prompt': prompt,\n",
    "                'generated_output': output,\n",
    "                'correct_output': data['answer'],\n",
    "                'success': output == data['answer']\n",
    "            }\n",
    "        report[task]['balanced_accuracy'] = sklearn.metrics.balanced_accuracy_score(targets, outputs)\n",
    "    \n",
    "    print('Balanced Accuracy:', sum([report[task]['balanced_accuracy'] if not math.isnan(report[task]['balanced_accuracy']) else 0 for task in tasks])/len(tasks))\n",
    "    \n",
    "    return report\n"
   ]
  },
  {
   "cell_type": "code",
   "execution_count": 12,
   "metadata": {},
   "outputs": [
    {
     "data": {
      "text/plain": [
       "162"
      ]
     },
     "execution_count": 12,
     "metadata": {},
     "output_type": "execute_result"
    }
   ],
   "source": [
    "len(TASKS)"
   ]
  },
  {
   "cell_type": "code",
   "execution_count": 13,
   "metadata": {},
   "outputs": [],
   "source": [
    "tasks_dir = '../legalbench'\n",
    "\n",
    "# tasks=random.sample(TASKS, 10)\n",
    "\n",
    "tasks= [task for task in TASKS if task.startswith(\"cuad\")]"
   ]
  },
  {
   "cell_type": "code",
   "execution_count": 14,
   "metadata": {},
   "outputs": [
    {
     "data": {
      "text/plain": [
       "38"
      ]
     },
     "execution_count": 14,
     "metadata": {},
     "output_type": "execute_result"
    }
   ],
   "source": [
    "len(tasks)"
   ]
  },
  {
   "cell_type": "code",
   "execution_count": 15,
   "metadata": {},
   "outputs": [
    {
     "name": "stderr",
     "output_type": "stream",
     "text": [
      "  0%|          | 0/38 [00:06<?, ?it/s]"
     ]
    },
    {
     "name": "stdout",
     "output_type": "stream",
     "text": [
      "{'data': [\"Does the clause describe a license grant to a licensee (incl. sublicensor) and the affiliates of such licensee/sublicensor?\\n\\nClause: Supplier hereby grants Bank of America a nonexclusive, worldwide, irrevocable, perpetual license to: (a) any patents related to or necessary or desirable to use the Software to the extent such patents are now held, licensed to or hereafter acquired by Supplier, for the purpose of allowing Bank of America and its Affiliates and permitted assigns to install, copy, use, execute, modify, distribute (as necessary or useful for Bank of America and its Affiliates and permitted assigns to enjoy their rights as set forth in the Agreement), make, have made, enhance, improve and alter the Software (both in Object Code and Source Code form) as necessary to conduct Bank of America business in accordance with the terms and restrictions or this Section; (b) any Copyrights now held, licensed to or hereafter acquired by Supplier in the Software for the purpose of allowing Bank of America and its Affiliates an permitted assigns to install, copy, use, execute, modify, distribute (as necessary or useful for Bank of America and its Affiliates and permitted assigns to enjoy their fights as set forth In the Agreement, produce derivative works from and<omitted>display such Software (both in Object Code and Source Code for ); any (c) other Intellectual Property Rights or Supplier in the Software as are necessary or useful for Bank of America, its Affiliates and permitted assigns to install, copy, use, execute, modify, distribute, enhance, improve and alter and copy the Software (both in Object Code and Source Code form) for the purpose of conducting Bank of America business in accordance with the terms and restrictions of this Section.\\nLabel: Yes\\n\\nClause: Subject to the terms and conditions of this Agreement, Parent hereby grants to each individual member of the SpinCo Group, on behalf of itself and the other members of the Parent Group, and shall cause the other members of the Parent Group to grant to each individual member of the SpinCo Group, a non-exclusive, worldwide, perpetual, irrevocable, fully paid-up, royalty-free right and license, solely for use in the SpinCo Field, to (i)<omitted>use, reproduce, distribute, display, perform, make improvements and exploit Intellectual Property owned or controlled by Parent or a member of the Parent Group and currently used in the SpinCo Business, and (ii) make, have made, use, sell, offer to sell and import any goods and services incorporating, embodying or utilizing such Intellectual Property currently used in the SpinCo Business.\\nLabel: Yes\\n\\nClause: For avoidance of doubt, to the extent that any of the licenses granted by the terms of this Agreement include any right to sublicense, such right to sublicense shall extend to Licensee's subsidiaries and joint venturers.\\nLabel: Yes\\n\\nClause: Promptly upon receipt of notice from Pfizer, Exact and Pfizer shall engage in exclusive good faith negotiations to enter into a definitive written agreement for the Ex-US Commercial Rights.\\nLabel: No\\n\\nClause: Achaogen retains all rights in and to the Achaogen Patents and Achaogen Know-How.\\nLabel: No\\n\\nClause: Notwithstanding any other provision of this Agreement, each party's total liability in respect of damages under this Agreement, any regulation or common law shall be limited to the sum of all amounts received from Client in terms of this Agreement; provided, however, that this limitation shall not apply with respect to any claims arising out of or relating to clause 6 (Inventions and Proprietary Information), indemnification obligations or damages arising from a party's gross negligence or willful misconduct.\\nLabel: No\\n\\nClause: Supplier hereby grants Bank of America a nonexclusive, worldwide, irrevocable, perpetual license to: (a) any patents related to or necessary or desirable to use the Software to the extent such patents are now held, licensed to or hereafter acquired by Supplier, for the purpose of allowing Bank of America and its Affiliates and permitted assigns to install, copy, use, execute, modify, distribute (as necessary or useful for Bank of America and its Affiliates and permitted assigns to enjoy their rights as set forth in the Agreement), make, have made, enhance, improve and alter the Software (both in Object Code and Source Code form) as necessary to conduct Bank of America business in accordance with the terms and restrictions or this Section; (b) any Copyrights now held, licensed to or hereafter acquired by Supplier in the Software for the purpose of allowing Bank of America and its Affiliates an permitted assigns to install, copy, use, execute, modify, distribute (as necessary or useful for Bank of America and its Affiliates and permitted assigns to enjoy their fights as set\"], 'message': None, 'status': 'success'}\n"
     ]
    },
    {
     "name": "stderr",
     "output_type": "stream",
     "text": [
      "\n"
     ]
    },
    {
     "ename": "TypeError",
     "evalue": "list indices must be integers or slices, not str",
     "output_type": "error",
     "traceback": [
      "\u001b[0;31m---------------------------------------------------------------------------\u001b[0m",
      "\u001b[0;31mTypeError\u001b[0m                                 Traceback (most recent call last)",
      "Cell \u001b[0;32mIn[15], line 1\u001b[0m\n\u001b[0;32m----> 1\u001b[0m report \u001b[39m=\u001b[39m evaluate(tasks\u001b[39m=\u001b[39;49mtasks, tasks_dir\u001b[39m=\u001b[39;49mtasks_dir)\n",
      "Cell \u001b[0;32mIn[11], line 12\u001b[0m, in \u001b[0;36mevaluate\u001b[0;34m(tasks, tasks_dir)\u001b[0m\n\u001b[1;32m     10\u001b[0m \u001b[39mfor\u001b[39;00m prompt, data \u001b[39min\u001b[39;00m \u001b[39mzip\u001b[39m(prompts, train_df\u001b[39m.\u001b[39miterrows()):\n\u001b[1;32m     11\u001b[0m     datapoint_id, data \u001b[39m=\u001b[39m data\n\u001b[0;32m---> 12\u001b[0m     output \u001b[39m=\u001b[39m call_llm(prompt)\n\u001b[1;32m     13\u001b[0m     output \u001b[39m=\u001b[39m output\u001b[39m.\u001b[39mstrip()\n\u001b[1;32m     14\u001b[0m     targets\u001b[39m.\u001b[39mappend(data[\u001b[39m'\u001b[39m\u001b[39manswer\u001b[39m\u001b[39m'\u001b[39m])\n",
      "Cell \u001b[0;32mIn[10], line 10\u001b[0m, in \u001b[0;36mcall_llm\u001b[0;34m(prompt)\u001b[0m\n\u001b[1;32m      8\u001b[0m output \u001b[39m=\u001b[39m model\u001b[39m.\u001b[39mpredict({\u001b[39m\"\u001b[39m\u001b[39mprompt\u001b[39m\u001b[39m\"\u001b[39m: prompt, \u001b[39m\"\u001b[39m\u001b[39mtemperature\u001b[39m\u001b[39m\"\u001b[39m: \u001b[39m0.0\u001b[39m})\n\u001b[1;32m      9\u001b[0m \u001b[39mprint\u001b[39m(output)\n\u001b[0;32m---> 10\u001b[0m output \u001b[39m=\u001b[39m output[\u001b[39m\"\u001b[39;49m\u001b[39mdata\u001b[39;49m\u001b[39m\"\u001b[39;49m][\u001b[39m\"\u001b[39;49m\u001b[39mgenerated_text\u001b[39;49m\u001b[39m\"\u001b[39;49m]\n\u001b[1;32m     11\u001b[0m result \u001b[39m=\u001b[39m output\u001b[39m.\u001b[39mrsplit(\u001b[39m\"\u001b[39m\u001b[39m \u001b[39m\u001b[39m\"\u001b[39m, maxsplit\u001b[39m=\u001b[39m\u001b[39m1\u001b[39m)[\u001b[39m-\u001b[39m\u001b[39m1\u001b[39m]\n\u001b[1;32m     12\u001b[0m \u001b[39mreturn\u001b[39;00m result\n",
      "\u001b[0;31mTypeError\u001b[0m: list indices must be integers or slices, not str"
     ]
    }
   ],
   "source": [
    "report = evaluate(tasks=tasks, tasks_dir=tasks_dir)"
   ]
  },
  {
   "cell_type": "code",
   "execution_count": null,
   "metadata": {},
   "outputs": [],
   "source": [
    "print('Balanced Accuracy:', sum([report[task]['balanced_accuracy'] if not math.isnan(report[task]['balanced_accuracy']) else 0 for task in tasks])/len(tasks))"
   ]
  },
  {
   "cell_type": "code",
   "execution_count": null,
   "metadata": {},
   "outputs": [],
   "source": []
  }
 ],
 "metadata": {
  "kernelspec": {
   "display_name": "Python 3",
   "language": "python",
   "name": "python3"
  },
  "language_info": {
   "codemirror_mode": {
    "name": "ipython",
    "version": 3
   },
   "file_extension": ".py",
   "mimetype": "text/x-python",
   "name": "python",
   "nbconvert_exporter": "python",
   "pygments_lexer": "ipython3",
   "version": "3.10.2"
  }
 },
 "nbformat": 4,
 "nbformat_minor": 2
}
